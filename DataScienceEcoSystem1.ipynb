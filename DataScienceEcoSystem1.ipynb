{
  "cells": [
    {
      "cell_type": "markdown",
      "metadata": {
        "id": "view-in-github",
        "colab_type": "text"
      },
      "source": [
        "<a href=\"https://colab.research.google.com/github/whiteracer98/IBM_DS_CERT/blob/main/DataScienceEcoSystem1.ipynb\" target=\"_parent\"><img src=\"https://colab.research.google.com/assets/colab-badge.svg\" alt=\"Open In Colab\"/></a>"
      ]
    },
    {
      "cell_type": "markdown",
      "metadata": {
        "id": "IP25UqA5ET_i"
      },
      "source": [
        "<center>\n",
        "    <img src=\"https://cf-courses-data.s3.us.cloud-object-storage.appdomain.cloud/IBMDeveloperSkillsNetwork-DS0105EN-SkillsNetwork/labs/Module2/images/SN_web_lightmode.png\" width=\"300\" alt=\"cognitiveclass.ai logo\">\n",
        "</center>\n"
      ]
    },
    {
      "cell_type": "markdown",
      "source": [
        "# Data Science Tools and Ecosystem"
      ],
      "metadata": {
        "id": "YdEy8_dr4s8z"
      }
    },
    {
      "cell_type": "markdown",
      "source": [
        "## In this notebook, Data Science Tools and Ecosystem are summarized."
      ],
      "metadata": {
        "id": "cdbbF20e5T56"
      }
    },
    {
      "cell_type": "markdown",
      "source": [
        "__Objectives:__\n",
        "* Create a markdown cell with a table of Data Science tools\n",
        "* Create a markdown cell introducing arithmetic expression examples\n",
        "* Create a code cell to multiply and add numbers"
      ],
      "metadata": {
        "id": "GkkgyMxOt4Mt"
      }
    },
    {
      "cell_type": "markdown",
      "source": [
        "Some of the popular languages that Data Scientists use are: Python, SQL, & R."
      ],
      "metadata": {
        "id": "NfLg3sab5pcy"
      }
    },
    {
      "cell_type": "markdown",
      "source": [
        "Some of the commonly used libraries used by Data Scientists include: NumPy, Pandas, PyTorch, SciPy, Scikit-Learn, TensorFlow, & Matplotlib."
      ],
      "metadata": {
        "id": "m3k47l6b6Mg-"
      }
    },
    {
      "cell_type": "markdown",
      "source": [
        "| Data Science Tools |\n",
        "| --- |\n",
        "| RStudio |\n",
        "| Jupyter Notebook |\n",
        "| Apache Hadoop |"
      ],
      "metadata": {
        "id": "XmjEZpbZk0L8"
      }
    },
    {
      "cell_type": "markdown",
      "source": [
        "$$\n",
        "  \\int_0^\\infty \\frac{x^3}{e^x-1}\\,dx = \\frac{\\pi^4}{15}\n",
        "$$\n",
        "*Note no expression examples were displayed within assignment layout"
      ],
      "metadata": {
        "id": "kY3BgXK16_Wp"
      }
    },
    {
      "cell_type": "code",
      "source": [
        "print(\"This a simple arithmetic expression to mutiply then add integers (3*4)+5 = {}\".format((3*4)+5))\n"
      ],
      "metadata": {
        "id": "8ry2yoz04px8",
        "colab": {
          "base_uri": "https://localhost:8080/"
        },
        "outputId": "e8660ce2-5792-46cd-9ff5-502543cacfde"
      },
      "execution_count": null,
      "outputs": [
        {
          "output_type": "stream",
          "name": "stdout",
          "text": [
            "This a simple arithmetic expression to mutiply then add integers (3*4)+5 = 17\n"
          ]
        }
      ]
    },
    {
      "cell_type": "code",
      "source": [
        "print('his will convert 200 minutes to hours by diving by 60')\n",
        "print('200 minutes into {} hours'.format(round(200/60,2)))"
      ],
      "metadata": {
        "colab": {
          "base_uri": "https://localhost:8080/"
        },
        "id": "ZxuAchkepQ0O",
        "outputId": "48d518ec-fa45-4df7-81a4-1d1fdb70e39a"
      },
      "execution_count": null,
      "outputs": [
        {
          "output_type": "stream",
          "name": "stdout",
          "text": [
            "his will convert 200 minutes to hours by diving by 60\n",
            "200 minutes into 3.33 hours\n"
          ]
        }
      ]
    },
    {
      "cell_type": "markdown",
      "source": [
        "##Author\n",
        "Travis Deck"
      ],
      "metadata": {
        "id": "SmlyfudywAsm"
      }
    },
    {
      "cell_type": "markdown",
      "metadata": {
        "id": "I0VVM8xEET_k"
      },
      "source": [
        "#### Add your code below following the instructions given in the course\n"
      ]
    },
    {
      "cell_type": "code",
      "execution_count": null,
      "metadata": {
        "id": "gq_QorkKET_l"
      },
      "outputs": [],
      "source": []
    }
  ],
  "metadata": {
    "kernelspec": {
      "display_name": "Python",
      "language": "python",
      "name": "conda-env-python-py"
    },
    "language_info": {
      "name": ""
    },
    "colab": {
      "provenance": [],
      "include_colab_link": true
    }
  },
  "nbformat": 4,
  "nbformat_minor": 0
}